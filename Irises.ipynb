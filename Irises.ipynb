{
 "cells": [
  {
   "cell_type": "code",
   "execution_count": 1,
   "id": "1b7b8e9f",
   "metadata": {},
   "outputs": [],
   "source": [
    "import pandas as pd\n",
    "from sklearn.tree import DecisionTreeClassifier\n",
    "from sklearn.model_selection import GridSearchCV\n",
    "from sklearn.datasets import load_iris"
   ]
  },
  {
   "cell_type": "code",
   "execution_count": 2,
   "id": "23d5dea2",
   "metadata": {},
   "outputs": [
    {
     "data": {
      "text/plain": [
       "{'max_depth': 3, 'min_samples_leaf': 1, 'min_samples_split': 2}"
      ]
     },
     "execution_count": 2,
     "metadata": {},
     "output_type": "execute_result"
    }
   ],
   "source": [
    "iris = load_iris()\n",
    "X = iris.data\n",
    "y = iris.target\n",
    "clf = DecisionTreeClassifier()\n",
    "params = {'max_depth': [i for i in range(1,11)], 'min_samples_split': [i for i in range(2,11)],'min_samples_leaf': [i for i in range(1,11)]}\n",
    "search = GridSearchCV(estimator=clf, param_grid=params)\n",
    "search.fit(X, y)\n",
    "best_tree = search.best_estimator_\n",
    "search.best_params_"
   ]
  },
  {
   "cell_type": "code",
   "execution_count": 3,
   "id": "019df838",
   "metadata": {},
   "outputs": [],
   "source": [
    "from sklearn.metrics import confusion_matrix\n",
    "\n",
    "predictions = best_tree.predict(X)\n",
    "conf_matrix = confusion_matrix(y, predictions)"
   ]
  },
  {
   "cell_type": "code",
   "execution_count": 4,
   "id": "ab5bd675",
   "metadata": {},
   "outputs": [
    {
     "data": {
      "text/plain": [
       "array([[50,  0,  0],\n",
       "       [ 0, 47,  3],\n",
       "       [ 0,  1, 49]], dtype=int64)"
      ]
     },
     "execution_count": 4,
     "metadata": {},
     "output_type": "execute_result"
    }
   ],
   "source": [
    "conf_matrix"
   ]
  },
  {
   "cell_type": "code",
   "execution_count": 6,
   "id": "a4d6bd04",
   "metadata": {},
   "outputs": [
    {
     "name": "stderr",
     "output_type": "stream",
     "text": [
      "ERROR: failed to initiate DVC - '.dvc' exists. Use `-f` to force.\n"
     ]
    }
   ],
   "source": [
    "!dvc init"
   ]
  },
  {
   "cell_type": "code",
   "execution_count": 9,
   "id": "8da2fb3d",
   "metadata": {},
   "outputs": [
    {
     "name": "stderr",
     "output_type": "stream",
     "text": [
      "No remote provided and no default remote set."
     ]
    },
    {
     "name": "stdout",
     "output_type": "stream",
     "text": [
      "Everything is up to date."
     ]
    },
    {
     "name": "stderr",
     "output_type": "stream",
     "text": [
      "\n"
     ]
    },
    {
     "name": "stdout",
     "output_type": "stream",
     "text": [
      "\n"
     ]
    }
   ],
   "source": [
    "!dvc pull"
   ]
  },
  {
   "cell_type": "code",
   "execution_count": 10,
   "id": "ecea3bf6",
   "metadata": {},
   "outputs": [
    {
     "name": "stderr",
     "output_type": "stream",
     "text": [
      "ERROR: Stage 'train' already exists in 'dvc.yaml'. Use '--force' to overwrite.\n"
     ]
    }
   ],
   "source": [
    "!dvc stage add --name train --outs dvclive python train.py"
   ]
  },
  {
   "cell_type": "code",
   "execution_count": 11,
   "id": "2aa0dee3",
   "metadata": {},
   "outputs": [
    {
     "name": "stdout",
     "output_type": "stream",
     "text": [
      "Reproducing experiment 'found-keek'\n",
      "Stage 'train' didn't change, skipping\n",
      "\n",
      "Ran experiment(s): found-keek\n",
      "Experiment results have been applied to your workspace.\n"
     ]
    }
   ],
   "source": [
    "!dvc exp run"
   ]
  },
  {
   "cell_type": "code",
   "execution_count": null,
   "id": "2be4fd8b",
   "metadata": {},
   "outputs": [],
   "source": []
  },
  {
   "cell_type": "code",
   "execution_count": 13,
   "id": "6397fa97",
   "metadata": {},
   "outputs": [
    {
     "name": "stderr",
     "output_type": "stream",
     "text": [
      "WARNING: The following untracked files were present in the workspace before saving but will not be included in the experiment commit:\n",
      "\t.gitignore, train.py\n"
     ]
    }
   ],
   "source": [
    "from dvclive import Live\n",
    "from sklearn.model_selection import cross_val_score\n",
    "from sklearn.metrics import precision_score, recall_score\n",
    "\n",
    "with Live() as live:\n",
    "    live.log_param(\"epochs\", 1)\n",
    "\n",
    "    for i in range(1, 11):\n",
    "        for j in range(2, 11):\n",
    "            for k in range(1, 11):\n",
    "                clf = DecisionTreeClassifier(max_depth=i, min_samples_split=j, min_samples_leaf=k)\n",
    "                clf.fit(X, y)\n",
    "                live.log_metric('Precision', precision_score(y, clf.predict(X), average='micro'))\n",
    "                live.log_metric('Recall', recall_score(y, clf.predict(X), average='micro'))\n",
    "                live.log_sklearn_plot(\"confusion_matrix\", y, clf.predict(X))\n",
    "                live.next_step()"
   ]
  },
  {
   "cell_type": "code",
   "execution_count": null,
   "id": "753bd312",
   "metadata": {},
   "outputs": [],
   "source": []
  }
 ],
 "metadata": {
  "kernelspec": {
   "display_name": "Python 3 (ipykernel)",
   "language": "python",
   "name": "python3"
  },
  "language_info": {
   "codemirror_mode": {
    "name": "ipython",
    "version": 3
   },
   "file_extension": ".py",
   "mimetype": "text/x-python",
   "name": "python",
   "nbconvert_exporter": "python",
   "pygments_lexer": "ipython3",
   "version": "3.9.16"
  }
 },
 "nbformat": 4,
 "nbformat_minor": 5
}
